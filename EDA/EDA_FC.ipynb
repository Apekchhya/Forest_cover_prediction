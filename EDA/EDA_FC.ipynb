{
  "nbformat": 4,
  "nbformat_minor": 0,
  "metadata": {
    "colab": {
      "name": "EDA_FC",
      "provenance": []
    },
    "kernelspec": {
      "name": "python3",
      "display_name": "Python 3"
    },
    "language_info": {
      "name": "python"
    }
  },
  "cells": [
    {
      "cell_type": "markdown",
      "source": [
        "Make necessary imports"
      ],
      "metadata": {
        "id": "mqcLd4uPwCe7"
      }
    },
    {
      "cell_type": "code",
      "source": [
        "import pandas as pd\n",
        "import numpy as np\n",
        "import matplotlib.pyplot as plt\n",
        "from sklearn.cluster import KMeans\n",
        "from kneed import KneeLocator\n",
        "from imblearn.over_sampling import SMOTE\n",
        "from sklearn.preprocessing import StandardScaler\n",
        "import seaborn as sns"
      ],
      "metadata": {
        "id": "65kI7ziXwIXp"
      },
      "execution_count": null,
      "outputs": []
    },
    {
      "cell_type": "markdown",
      "source": [
        "File reading"
      ],
      "metadata": {
        "id": "fxMreCBHwOQ_"
      }
    },
    {
      "cell_type": "code",
      "source": [
        "raw_data = pd.read_csv(\"/content/forest_cover.csv\")"
      ],
      "metadata": {
        "id": "c9u60dwBwQ9q"
      },
      "execution_count": null,
      "outputs": []
    },
    {
      "cell_type": "markdown",
      "source": [
        "**Handling missing values**"
      ],
      "metadata": {
        "id": "E8ANaScKwVAQ"
      }
    },
    {
      "cell_type": "code",
      "source": [
        "raw_data.isnull().sum()"
      ],
      "metadata": {
        "id": "0y1zOyGUwX2-"
      },
      "execution_count": null,
      "outputs": []
    },
    {
      "cell_type": "code",
      "source": [
        "raw_data = raw_data.dropna()"
      ],
      "metadata": {
        "id": "w2KGkC1uwjpe"
      },
      "execution_count": null,
      "outputs": []
    },
    {
      "cell_type": "markdown",
      "source": [
        "Plotting numerical data"
      ],
      "metadata": {
        "id": "euDKge9xw7KI"
      }
    },
    {
      "cell_type": "code",
      "source": [
        "num_data = raw_data[['elevation', 'aspect', 'slope', 'horizontal_distance_to_hydrology',\n",
        "       'Vertical_Distance_To_Hydrology', 'Horizontal_Distance_To_Roadways',\n",
        "       'Horizontal_Distance_To_Fire_Points']]"
      ],
      "metadata": {
        "id": "WrDuOeDCw9WN"
      },
      "execution_count": null,
      "outputs": []
    },
    {
      "cell_type": "code",
      "source": [
        "plt.figure(figsize = (15,60), facecolor = 'white')\n",
        "plotnumber = 1\n",
        "\n",
        "for column in num_data:\n",
        "  plt.subplot(16,4, plotnumber)\n",
        "  sns.distplot(num_data[column])\n",
        "  plt.xlabel(column, fontsize = 10)\n",
        "  plotnumber+=1\n",
        "\n",
        "plt.show()\n"
      ],
      "metadata": {
        "id": "6yD2qD8VxDjp"
      },
      "execution_count": null,
      "outputs": []
    },
    {
      "cell_type": "markdown",
      "source": [
        "Data transformation"
      ],
      "metadata": {
        "id": "vaOrJi7QxTXH"
      }
    },
    {
      "cell_type": "code",
      "source": [
        "scaler = StandardScaler()"
      ],
      "metadata": {
        "id": "Cv_7SJIuxWq7"
      },
      "execution_count": null,
      "outputs": []
    },
    {
      "cell_type": "code",
      "source": [
        "scaled_data = scaler.fit_transform(num_data)"
      ],
      "metadata": {
        "id": "3542xxn-xZLG"
      },
      "execution_count": null,
      "outputs": []
    },
    {
      "cell_type": "code",
      "source": [
        "col = num_data.columns"
      ],
      "metadata": {
        "id": "tq-_HAIRxcjf"
      },
      "execution_count": null,
      "outputs": []
    },
    {
      "cell_type": "code",
      "source": [
        "scaled_data = pd.DataFrame(scaled_data, columns = col)"
      ],
      "metadata": {
        "id": "9cP8wOuQxfR4"
      },
      "execution_count": null,
      "outputs": []
    },
    {
      "cell_type": "markdown",
      "source": [
        "Plotting categorical data"
      ],
      "metadata": {
        "id": "R1YAorrfxjiI"
      }
    },
    {
      "cell_type": "code",
      "source": [
        "cat_data = raw_data.drop(col, axis = 1)"
      ],
      "metadata": {
        "id": "AYe_lQoExmHJ"
      },
      "execution_count": null,
      "outputs": []
    },
    {
      "cell_type": "code",
      "source": [
        "cat_data['class'].unique()"
      ],
      "metadata": {
        "id": "8y12N8w-xsu4"
      },
      "execution_count": null,
      "outputs": []
    },
    {
      "cell_type": "code",
      "source": [
        "cat_data['class'] = cat_data['class'].map({'Lodgepole_Pine':0, 'Spruce_Fir':1, 'Douglas_fir':2, 'Krummholz':3,\n",
        "       'Ponderosa_Pine':4, 'Aspen':5, 'Cottonwood_Willow':6})"
      ],
      "metadata": {
        "id": "goMjUa22xulY"
      },
      "execution_count": null,
      "outputs": []
    },
    {
      "cell_type": "code",
      "source": [
        "plt.figure(figsize=(15,60), facecolor = 'white')\n",
        "plotnumber = 1\n",
        "for column in cat_data:\n",
        "  plt.subplot(16,4,plotnumber)\n",
        "  sns.violinplot(data = cat_data, x=cat_data[column], y = cat_data['class'])\n",
        "  plt.xlabel(column, fontsize = 10)\n",
        "  plotnumber += 1\n",
        "\n",
        "plt.show()\n",
        "plt.figure(figsize = (15,60), facecolor = 'white')\n",
        "plotnumber = 1\n"
      ],
      "metadata": {
        "id": "7meoO7cXxwxH"
      },
      "execution_count": null,
      "outputs": []
    },
    {
      "cell_type": "code",
      "source": [
        "plt.figure(figsize = (5,5))\n",
        "sns.countplot(cat_data['class'])"
      ],
      "metadata": {
        "id": "2pCPHnZvx4cY"
      },
      "execution_count": null,
      "outputs": []
    },
    {
      "cell_type": "code",
      "source": [
        "final_data = pd.concat([scaled_data,cat_data], axis = 1)"
      ],
      "metadata": {
        "id": "KejreEcEx8kP"
      },
      "execution_count": null,
      "outputs": []
    },
    {
      "cell_type": "markdown",
      "source": [
        "Separating label and features"
      ],
      "metadata": {
        "id": "cG03ALDiyGXC"
      }
    },
    {
      "cell_type": "code",
      "source": [
        "X= final_data.drop('class', axis = 1)"
      ],
      "metadata": {
        "id": "CK2ziYhLyJg4"
      },
      "execution_count": null,
      "outputs": []
    },
    {
      "cell_type": "code",
      "source": [
        "y = final_data['class']"
      ],
      "metadata": {
        "id": "flvvL1Z1yL2I"
      },
      "execution_count": null,
      "outputs": []
    },
    {
      "cell_type": "markdown",
      "source": [
        "Handling imbalance dataset"
      ],
      "metadata": {
        "id": "W4QX6_WayQnJ"
      }
    },
    {
      "cell_type": "code",
      "source": [
        "sample = SMOTE()"
      ],
      "metadata": {
        "id": "ewDPUTtLyUsi"
      },
      "execution_count": null,
      "outputs": []
    },
    {
      "cell_type": "code",
      "source": [
        "X,y = sample.fit_resample(X,y)"
      ],
      "metadata": {
        "id": "rR2hzDqCyYxP"
      },
      "execution_count": null,
      "outputs": []
    },
    {
      "cell_type": "code",
      "source": [
        "plt.figure(figsize = (5,5))\n",
        "sns.countplot(y)"
      ],
      "metadata": {
        "id": "1_0ddGsAyada"
      },
      "execution_count": null,
      "outputs": []
    }
  ]
}